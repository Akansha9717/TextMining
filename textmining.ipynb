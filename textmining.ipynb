{
  "nbformat": 4,
  "nbformat_minor": 0,
  "metadata": {
    "colab": {
      "name": "textmining.ipynb",
      "provenance": [],
      "collapsed_sections": [],
      "authorship_tag": "ABX9TyORc7nf3WMsQYoB6FRBEhK6",
      "include_colab_link": true
    },
    "kernelspec": {
      "name": "python3",
      "display_name": "Python 3"
    },
    "language_info": {
      "name": "python"
    }
  },
  "cells": [
    {
      "cell_type": "markdown",
      "metadata": {
        "id": "view-in-github",
        "colab_type": "text"
      },
      "source": [
        "<a href=\"https://colab.research.google.com/github/Akansha9717/TextMining/blob/main/textmining.ipynb\" target=\"_parent\"><img src=\"https://colab.research.google.com/assets/colab-badge.svg\" alt=\"Open In Colab\"/></a>"
      ]
    },
    {
      "cell_type": "markdown",
      "metadata": {
        "id": "FU57haxkCWiH"
      },
      "source": [
        "BIOMEDICAL LITERATURE MINING USING PYTHON\n",
        "at EduBooster Research & Technology"
      ]
    },
    {
      "cell_type": "code",
      "metadata": {
        "id": "jKxsmte2bZiu"
      },
      "source": [
        "import argparse"
      ],
      "execution_count": 1,
      "outputs": []
    },
    {
      "cell_type": "code",
      "metadata": {
        "id": "40YzBxSZeIs6"
      },
      "source": [
        "import time"
      ],
      "execution_count": 2,
      "outputs": []
    },
    {
      "cell_type": "code",
      "metadata": {
        "id": "zK0pkUIYeLTM"
      },
      "source": [
        "from bs4 import BeautifulSoup"
      ],
      "execution_count": 3,
      "outputs": []
    },
    {
      "cell_type": "code",
      "metadata": {
        "id": "JGefHLrIeQXK"
      },
      "source": [
        "import pandas as pd\n",
        "import requests\n"
      ],
      "execution_count": 4,
      "outputs": []
    },
    {
      "cell_type": "code",
      "metadata": {
        "id": "EXsF0cskea32"
      },
      "source": [
        "import random"
      ],
      "execution_count": 5,
      "outputs": []
    },
    {
      "cell_type": "code",
      "metadata": {
        "id": "rzy_OmMzexim"
      },
      "source": [
        "import warnings"
      ],
      "execution_count": 6,
      "outputs": []
    },
    {
      "cell_type": "code",
      "metadata": {
        "id": "PTvr0xGhe1Oo"
      },
      "source": [
        "import socket"
      ],
      "execution_count": 7,
      "outputs": []
    },
    {
      "cell_type": "code",
      "metadata": {
        "id": "xYchnOGDe2Nd"
      },
      "source": [
        "import asyncio"
      ],
      "execution_count": 8,
      "outputs": []
    },
    {
      "cell_type": "code",
      "metadata": {
        "id": "ldpTxSLse7L-"
      },
      "source": [
        "import html5lib\n",
        "from argparse import ArgumentParser"
      ],
      "execution_count": 9,
      "outputs": []
    },
    {
      "cell_type": "code",
      "metadata": {
        "id": "GjP3J6GotW4I"
      },
      "source": [
        "warnings.filterwarnings('ignore', '.*do not.*',)\n",
        "user_agents = [\n",
        "        \"Mozilla/5.0 (Windows NT 6.1; WOW64) AppleWebKit/537.1 (KHTML, like Gecko) Chrome/22.0.1207.1 Safari/537.1\",\n",
        "        \"Mozilla/5.0 (X11; Ubuntu; Linux x86_64; rv:55.0) Gecko/20100101 Firefox/55.0\",\n",
        "        \"Mozilla/5.0 (X11; Linux x86_64) AppleWebKit/537.36 (KHTML, like Gecko) Chrome/60.0.3112.101 Safari/537.36\",\n",
        "        \"Mozilla/5.0 (Windows NT 6.1; WOW64) AppleWebKit/537.1 (KHTML, like Gecko) Chrome/22.0.1207.1 Safari/537.1\",\n",
        "        \"Mozilla/5.0 (X11; CrOS i686 2268.111.0) AppleWebKit/536.11 (KHTML, like Gecko) Chrome/20.0.1132.57 Safari/536.11\",\n",
        "        \"Mozilla/5.0 (Windows NT 6.1; WOW64) AppleWebKit/536.6 (KHTML, like Gecko) Chrome/20.0.1092.0 Safari/536.6\",\n",
        "        \"Mozilla/5.0 (Windows NT 6.0) AppleWebKit/536.5 (KHTML, like Gecko) Chrome/19.0.1084.36 Safari/536.5\",\n",
        "        \"Mozilla/5.0 (Windows NT 6.1; WOW64) AppleWebKit/536.3 (KHTML, like Gecko) Chrome/19.0.1063.0 Safari/536.3\",\n",
        "        \"Mozilla/5.0 (Windows NT 5.1) AppleWebKit/536.3 (KHTML, like Gecko) Chrome/19.0.1063.0 Safari/536.3\",\n",
        "        \"Mozilla/5.0 (Macintosh; Intel Mac OS X 10_8_0) AppleWebKit/536.3 (KHTML, like Gecko) Chrome/19.0.1063.0 Safari/536.3\",\n",
        "        \"Mozilla/5.0 (Windows NT 6.2) AppleWebKit/536.3 (KHTML, like Gecko) Chrome/19.0.1062.0 Safari/536.3\",\n",
        "        \"Mozilla/5.0 (Windows NT 6.1; WOW64) AppleWebKit/536.3 (KHTML, like Gecko) Chrome/19.0.1062.0 Safari/536.3\",\n",
        "        \"Mozilla/5.0 (Windows NT 6.2) AppleWebKit/536.3 (KHTML, like Gecko) Chrome/19.0.1061.1 Safari/536.3\",\n",
        "        \"Mozilla/5.0 (Windows NT 6.1; WOW64) AppleWebKit/536.3 (KHTML, like Gecko) Chrome/19.0.1061.1 Safari/536.3\",\n",
        "        \"Mozilla/5.0 (Windows NT 6.1) AppleWebKit/536.3 (KHTML, like Gecko) Chrome/19.0.1061.1 Safari/536.3\",\n",
        "        \"Mozilla/5.0 (Windows NT 6.2) AppleWebKit/536.6 (KHTML, like Gecko) Chrome/20.0.1090.0 Safari/536.6\",\n",
        "        \"Mozilla/5.0 (Windows NT 6.2; WOW64) AppleWebKit/537.1 (KHTML, like Gecko) Chrome/19.77.34.5 Safari/537.1\",\n",
        "        \"Mozilla/5.0 (X11; Linux x86_64) AppleWebKit/536.5 (KHTML, like Gecko) Chrome/19.0.1084.9 Safari/536.5\",\n",
        "        \"Mozilla/5.0 (Windows NT 6.2) AppleWebKit/536.3 (KHTML, like Gecko) Chrome/19.0.1061.0 Safari/536.3\",\n",
        "        \"Mozilla/5.0 (X11; Linux x86_64) AppleWebKit/535.24 (KHTML, like Gecko) Chrome/19.0.1055.1 Safari/535.24\",\n",
        "        \"Mozilla/5.0 (Windows NT 6.2; WOW64) AppleWebKit/535.24 (KHTML, like Gecko) Chrome/19.0.1055.1 Safari/535.24\"\n",
        "        ]\n"
      ],
      "execution_count": 11,
      "outputs": []
    },
    {
      "cell_type": "code",
      "metadata": {
        "id": "-0SG2qhvtbVG"
      },
      "source": [
        "def make_header():\n",
        "    headers = {\n",
        "            'User-Agent':random.choice(user_agents),\n",
        "            }\n",
        "    return headers\n"
      ],
      "execution_count": 12,
      "outputs": []
    },
    {
      "cell_type": "code",
      "metadata": {
        "id": "ra7GpHygtkfF"
      },
      "source": [
        "async def extract_by_article(url):\n",
        "    conn = aiohttp.TCPConnector(family=socket.AF_INET,ssl=False)\n",
        "    headers = make_header()\n",
        "    global articles_data\n",
        "    async with aiohttp.ClientSession(headers=headers, connector=conn) as session:\n",
        "        async with semaphore, session.get(url) as response:\n",
        "            data = await response.text()\n",
        "            soup = BeautifulSoup(data, \"lxml\")\n",
        "            try:\n",
        "                abstract_raw = soup.find('div', {'class': 'abstract-content selected'}).find_all('p')\n",
        "                abstract = ' '.join([paragraph.text.strip() for paragraph in abstract_raw])\n",
        "            except:\n",
        "                abstract = 'NO_ABSTRACT'\n",
        "            try:\n",
        "                all_affiliations = soup.find('ul', {'class':'item-list'}).find_all('li')\n",
        "                for affiliation in all_affiliations:\n",
        "                    affiliations.append(affiliation.get_text().strip())\n",
        "            except:\n",
        "                affiliations = 'NO_AFFILIATIONS'\n",
        "            try:\n",
        "                has_keywords = soup.find_all('strong',{'class':'sub-title'})[-1].text.strip()\n",
        "                if has_keywords == 'Keywords:':\n",
        "                    keywords = soup.find('div', {'class':'abstract' }).find_all('p')[-1].get_text()\n",
        "                    keywords = keywords.replace('Keywords:','\\n').strip() \n",
        "                else:\n",
        "                    keywords = 'NO_KEYWORDS'\n",
        "            except:\n",
        "                keywords = 'NO_KEYWORDS'\n",
        "            try:\n",
        "                title = soup.find('meta',{'name':'citation_title'})['content'].strip('[]')\n",
        "            except:\n",
        "                title = 'NO_TITLE'\n",
        "            authors = ''   \n",
        "            try:\n",
        "                for author in soup.find('div',{'class':'authors-list'}).find_all('a',{'class':'full-name'}):\n",
        "                    authors += author.text + ', '\n",
        "            except:\n",
        "                authors = ('NO_AUTHOR')\n",
        "            try:\n",
        "                journal = soup.find('meta',{'name':'citation_journal_title'})['content']\n",
        "            except:\n",
        "                journal = 'NO_JOURNAL'\n",
        "            try:\n",
        "                date = soup.find('time', {'class': 'citation-year'}).text\n",
        "            except:\n",
        "                date = 'NO_DATE'\n",
        "\n",
        "            article_data = {\n",
        "                'url': url,\n",
        "                'title': title,\n",
        "                'authors': authors,\n",
        "                'abstract': abstract,\n",
        "                'affiliations': affiliations,\n",
        "                'journal': journal,\n",
        "                'keywords': keywords,\n",
        "                'date': date\n",
        "            }\n",
        "            articles_data.append(article_data)\n"
      ],
      "execution_count": 13,
      "outputs": []
    },
    {
      "cell_type": "code",
      "metadata": {
        "id": "xBK_YVEtuB1Q"
      },
      "source": [
        "async def get_pmids(page, keyword):\n",
        "    page_url = f'{pubmed_url}+{keyword}+&page={page}'\n",
        "    headers = make_header()\n",
        "    async with aiohttp.ClientSession(headers=headers) as session:\n",
        "        async with session.get(page_url) as response:\n",
        "            data = await response.text()\n",
        "            soup = BeautifulSoup(data, \"lxml\")\n",
        "            pmids = soup.find('meta',{'name':'log_displayeduids'})['content']\n",
        "            for pmid in pmids.split(','):\n",
        "                url = root_pubmed_url + '/' + pmid\n",
        "                urls.append(url)"
      ],
      "execution_count": 14,
      "outputs": []
    },
    {
      "cell_type": "code",
      "metadata": {
        "id": "Dp5vM_RkuMmg"
      },
      "source": [
        "def get_num_pages(keyword):\n",
        "    if args.pages != None: return args.pages\n",
        "    headers=make_header()\n",
        "    search_url = f'{pubmed_url}+{keyword}'\n",
        "    with requests.get(search_url,headers=headers) as response:\n",
        "        data = response.text\n",
        "        soup = BeautifulSoup(data, \"lxml\")\n",
        "        num_pages = int((soup.find('span', {'class': 'total-pages'}).get_text()).replace(',',''))\n",
        "        return num_pages \n"
      ],
      "execution_count": 15,
      "outputs": []
    },
    {
      "cell_type": "code",
      "metadata": {
        "id": "HBiiWlCGuTgq"
      },
      "source": [
        "async def build_article_urls(keywords):\n",
        "    tasks = []\n",
        "    for keyword in keywords:\n",
        "        num_pages = get_num_pages(keyword)\n",
        "        for page in range(1,num_pages+1):\n",
        "            task = asyncio.create_task(get_pmids(page, keyword))\n",
        "            tasks.append(task)\n",
        "\n",
        "    await asyncio.gather(*tasks)\n"
      ],
      "execution_count": 16,
      "outputs": []
    },
    {
      "cell_type": "code",
      "metadata": {
        "id": "1WGcB6ReuX5w"
      },
      "source": [
        "async def get_article_data(urls):\n",
        "    tasks = []\n",
        "    for url in urls:\n",
        "        if url not in scraped_urls:\n",
        "            task = asyncio.create_task(extract_by_article(url))\n",
        "            tasks.append(task)\n",
        "            scraped_urls.append(url)\n",
        "\n",
        "    await asyncio.gather(*tasks)"
      ],
      "execution_count": 17,
      "outputs": []
    },
    {
      "cell_type": "code",
      "metadata": {
        "colab": {
          "resources": {
            "http://localhost:8080/nbextensions/google.colab/files.js": {
              "data": "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",
              "ok": true,
              "headers": [
                [
                  "content-type",
                  "application/javascript"
                ]
              ],
              "status": 200,
              "status_text": ""
            }
          },
          "base_uri": "https://localhost:8080/",
          "height": 123
        },
        "id": "NlXh6YCfuxaO",
        "outputId": "32ec0d90-4267-4869-b214-6f530767fc23"
      },
      "source": [
        "if __name__ == \"__main__\":\n",
        "    parser = ArgumentParser(description='Asynchronous PubMed Scraper')\n",
        "    parser.add_argument('-f')\n",
        "    parser.add_argument('--pages', type=int, default=None, help='Specify number of pages to scrape for EACH keyword. Each page of PubMed results contains 10 articles. \\n Default = all pages returned for all keywords.')\n",
        "    parser.add_argument('--start', type=int, default=2020, help='Specify start year for publication date range to scrape. Default = 2020')\n",
        "    parser.add_argument('--stop', type=int, default=2021, help='Specify stop year for publication date range to scrape. Default = 2021')\n",
        "    parser.add_argument('--output', type=str, default='articles.csv',help='Choose output file name. Default = \"articles.csv\".')\n",
        "    args = parser.parse_args()\n",
        "    if args.output[-4:] != '.csv': args.output += '.csv' \n",
        "    from datetime import datetime\n",
        "    start_time = datetime.now()\n",
        "    pubmed_url = f'https://pubmed.ncbi.nlm.nih.gov/?term={args.start}%3A{args.stop}%5Bdp%5D'\n",
        "    root_pubmed_url = 'https://pubmed.ncbi.nlm.nih.gov'\n",
        "    from google.colab import files\n",
        "    uploaded = files.upload()  \n",
        "    search_keywords = []\n",
        "    with open('keywords.txt') as file:\n",
        "        keywords = file.readlines()\n",
        "        [search_keywords.append(keyword.strip()) for keyword in keywords]\n",
        "    print(f'\\nFinding PubMed article URLs for {len(keywords)} keywords found in keywords.txt\\n')\n",
        "\n"
      ],
      "execution_count": 18,
      "outputs": [
        {
          "output_type": "display_data",
          "data": {
            "text/html": [
              "\n",
              "     <input type=\"file\" id=\"files-e4a68fce-de36-43dc-9374-a337e81397b1\" name=\"files[]\" multiple disabled\n",
              "        style=\"border:none\" />\n",
              "     <output id=\"result-e4a68fce-de36-43dc-9374-a337e81397b1\">\n",
              "      Upload widget is only available when the cell has been executed in the\n",
              "      current browser session. Please rerun this cell to enable.\n",
              "      </output>\n",
              "      <script src=\"/nbextensions/google.colab/files.js\"></script> "
            ],
            "text/plain": [
              "<IPython.core.display.HTML object>"
            ]
          },
          "metadata": {
            "tags": []
          }
        },
        {
          "output_type": "stream",
          "text": [
            "Saving keywords.txt to keywords.txt\n",
            "\n",
            "Finding PubMed article URLs for 1 keywords found in keywords.txt\n",
            "\n"
          ],
          "name": "stdout"
        }
      ]
    },
    {
      "cell_type": "code",
      "metadata": {
        "id": "HiZR35r6dw77"
      },
      "source": [
        " articles_data = []"
      ],
      "execution_count": 19,
      "outputs": []
    },
    {
      "cell_type": "code",
      "metadata": {
        "id": "26aYGf4GfJwd"
      },
      "source": [
        " urls = []\n",
        "   \n",
        " scraped_urls = []\n",
        "\n",
        "    \n",
        " semaphore = asyncio.BoundedSemaphore(100)"
      ],
      "execution_count": 20,
      "outputs": []
    },
    {
      "cell_type": "code",
      "metadata": {
        "id": "_o5m5w3bgYiK"
      },
      "source": [
        "import nest_asyncio\n",
        "nest_asyncio.apply()\n",
        "import asyncio"
      ],
      "execution_count": 21,
      "outputs": []
    },
    {
      "cell_type": "code",
      "metadata": {
        "id": "QphEwwJvgmci"
      },
      "source": [
        "loop = asyncio.get_event_loop()"
      ],
      "execution_count": 22,
      "outputs": []
    },
    {
      "cell_type": "code",
      "metadata": {
        "colab": {
          "base_uri": "https://localhost:8080/",
          "height": 0
        },
        "id": "HvhFm6k0ts2M",
        "outputId": "88ac5850-ef1d-4da1-fa7b-aded17afb357"
      },
      "source": [
        " !pip3 install aiohttp\n"
      ],
      "execution_count": 25,
      "outputs": [
        {
          "output_type": "stream",
          "text": [
            "Collecting aiohttp\n",
            "  Downloading aiohttp-3.7.4.post0-cp37-cp37m-manylinux2014_x86_64.whl (1.3 MB)\n",
            "\u001b[K     |████████████████████████████████| 1.3 MB 5.0 MB/s \n",
            "\u001b[?25hCollecting yarl<2.0,>=1.0\n",
            "  Downloading yarl-1.6.3-cp37-cp37m-manylinux2014_x86_64.whl (294 kB)\n",
            "\u001b[K     |████████████████████████████████| 294 kB 33.6 MB/s \n",
            "\u001b[?25hRequirement already satisfied: typing-extensions>=3.6.5 in /usr/local/lib/python3.7/dist-packages (from aiohttp) (3.7.4.3)\n",
            "Collecting async-timeout<4.0,>=3.0\n",
            "  Downloading async_timeout-3.0.1-py3-none-any.whl (8.2 kB)\n",
            "Collecting multidict<7.0,>=4.5\n",
            "  Downloading multidict-5.1.0-cp37-cp37m-manylinux2014_x86_64.whl (142 kB)\n",
            "\u001b[K     |████████████████████████████████| 142 kB 52.9 MB/s \n",
            "\u001b[?25hRequirement already satisfied: chardet<5.0,>=2.0 in /usr/local/lib/python3.7/dist-packages (from aiohttp) (3.0.4)\n",
            "Requirement already satisfied: attrs>=17.3.0 in /usr/local/lib/python3.7/dist-packages (from aiohttp) (21.2.0)\n",
            "Requirement already satisfied: idna>=2.0 in /usr/local/lib/python3.7/dist-packages (from yarl<2.0,>=1.0->aiohttp) (2.10)\n",
            "Installing collected packages: multidict, yarl, async-timeout, aiohttp\n",
            "Successfully installed aiohttp-3.7.4.post0 async-timeout-3.0.1 multidict-5.1.0 yarl-1.6.3\n"
          ],
          "name": "stdout"
        }
      ]
    },
    {
      "cell_type": "code",
      "metadata": {
        "id": "SMVtQm3k5uKj"
      },
      "source": [
        "import asyncio\n",
        "from aiohttp import web\n",
        "import nest_asyncio\n",
        "nest_asyncio.apply()"
      ],
      "execution_count": 26,
      "outputs": []
    },
    {
      "cell_type": "code",
      "metadata": {
        "id": "dGM1owLs6ZAN"
      },
      "source": [
        "from aiohttp import web\n",
        "routes = web.RouteTableDef()"
      ],
      "execution_count": 27,
      "outputs": []
    },
    {
      "cell_type": "code",
      "metadata": {
        "id": "NR_KgzE09IrI"
      },
      "source": [
        "import aiohttp"
      ],
      "execution_count": 28,
      "outputs": []
    },
    {
      "cell_type": "code",
      "metadata": {
        "id": "0BPoTWbpPHak",
        "colab": {
          "base_uri": "https://localhost:8080/",
          "height": 0
        },
        "outputId": "7894a0d0-9623-4b68-fd17-30e0bbec38f8"
      },
      "source": [
        "loop.run_until_complete(build_article_urls(search_keywords))\n",
        "print(f'Scraping initiated for {len(urls)} article URLs found from {args.start} to {args.stop}\\n')\n",
        "loop = asyncio.get_event_loop()\n",
        "loop.run_until_complete(get_article_data(urls))"
      ],
      "execution_count": 29,
      "outputs": [
        {
          "output_type": "stream",
          "text": [
            "Scraping initiated for 598 article URLs found from 2020 to 2021\n",
            "\n"
          ],
          "name": "stdout"
        }
      ]
    },
    {
      "cell_type": "code",
      "metadata": {
        "colab": {
          "base_uri": "https://localhost:8080/",
          "height": 0
        },
        "id": "3M4t4x2A9QSf",
        "outputId": "97e87b91-bfa9-40f3-cf7d-9614afb554f3"
      },
      "source": [
        "articles_df = pd.DataFrame(articles_data, columns=['title','abstract','affiliations','authors','journal','date','keywords','url'])\n",
        "print('Preview of scraped article data:\\n')\n",
        "print(articles_df.head(5))\n"
      ],
      "execution_count": 30,
      "outputs": [
        {
          "output_type": "stream",
          "text": [
            "Preview of scraped article data:\n",
            "\n",
            "                                               title  ...                                       url\n",
            "0  Liver X Receptor Alpha Activation Inhibits Aut...  ...  https://pubmed.ncbi.nlm.nih.gov/32557804\n",
            "1  Anti-inflammatory effects of Aureusidin in LPS...  ...  https://pubmed.ncbi.nlm.nih.gov/31790703\n",
            "2  Hippo signaling disruption and ovarian follicl...  ...  https://pubmed.ncbi.nlm.nih.gov/32782158\n",
            "3  Can Vitamin D and L-Cysteine Co-Supplementatio...  ...  https://pubmed.ncbi.nlm.nih.gov/32659175\n",
            "4  Pterostilbene prevents LPS-induced early pulmo...  ...  https://pubmed.ncbi.nlm.nih.gov/32377661\n",
            "\n",
            "[5 rows x 8 columns]\n"
          ],
          "name": "stdout"
        }
      ]
    },
    {
      "cell_type": "code",
      "metadata": {
        "id": "uWRRPvFk_HoM"
      },
      "source": [
        "filename = args.output\n",
        "articles_df.to_csv(filename)"
      ],
      "execution_count": 31,
      "outputs": []
    },
    {
      "cell_type": "code",
      "metadata": {
        "colab": {
          "base_uri": "https://localhost:8080/",
          "height": 0
        },
        "id": "qx5_ZEhxBUfw",
        "outputId": "82144137-131d-49ff-c84c-fc19349d9dc0"
      },
      "source": [
        "print(f'It took {time.time()} seconds to find {len(urls)} articles; {len(scraped_urls)} unique articles were saved to {filename}')"
      ],
      "execution_count": 32,
      "outputs": [
        {
          "output_type": "stream",
          "text": [
            "It took 1628665185.5085616 seconds to find 598 articles; 597 unique articles were saved to articles.csv\n"
          ],
          "name": "stdout"
        }
      ]
    },
    {
      "cell_type": "code",
      "metadata": {
        "id": "EokyBAG0CjmZ"
      },
      "source": [
        "data = pd.read_csv(\"articles.csv\")"
      ],
      "execution_count": 33,
      "outputs": []
    },
    {
      "cell_type": "code",
      "metadata": {
        "colab": {
          "base_uri": "https://localhost:8080/",
          "height": 710
        },
        "id": "herrD-JMCtGp",
        "outputId": "c2412116-48c4-45ab-96fd-5ba2a5395df5"
      },
      "source": [
        "data.head(10)"
      ],
      "execution_count": 34,
      "outputs": [
        {
          "output_type": "execute_result",
          "data": {
            "text/html": [
              "<div>\n",
              "<style scoped>\n",
              "    .dataframe tbody tr th:only-of-type {\n",
              "        vertical-align: middle;\n",
              "    }\n",
              "\n",
              "    .dataframe tbody tr th {\n",
              "        vertical-align: top;\n",
              "    }\n",
              "\n",
              "    .dataframe thead th {\n",
              "        text-align: right;\n",
              "    }\n",
              "</style>\n",
              "<table border=\"1\" class=\"dataframe\">\n",
              "  <thead>\n",
              "    <tr style=\"text-align: right;\">\n",
              "      <th></th>\n",
              "      <th>Unnamed: 0</th>\n",
              "      <th>title</th>\n",
              "      <th>abstract</th>\n",
              "      <th>affiliations</th>\n",
              "      <th>authors</th>\n",
              "      <th>journal</th>\n",
              "      <th>date</th>\n",
              "      <th>keywords</th>\n",
              "      <th>url</th>\n",
              "    </tr>\n",
              "  </thead>\n",
              "  <tbody>\n",
              "    <tr>\n",
              "      <th>0</th>\n",
              "      <td>0</td>\n",
              "      <td>Liver X Receptor Alpha Activation Inhibits Aut...</td>\n",
              "      <td>Background and aims:\\n        \\n      \\n      ...</td>\n",
              "      <td>NO_AFFILIATIONS</td>\n",
              "      <td>Yun Seok Kim, Hyeon Joo Nam, Chang Yeob Han, M...</td>\n",
              "      <td>Hepatology (Baltimore, Md.)</td>\n",
              "      <td>NO_DATE</td>\n",
              "      <td>NO_KEYWORDS</td>\n",
              "      <td>https://pubmed.ncbi.nlm.nih.gov/32557804</td>\n",
              "    </tr>\n",
              "    <tr>\n",
              "      <th>1</th>\n",
              "      <td>1</td>\n",
              "      <td>Anti-inflammatory effects of Aureusidin in LPS...</td>\n",
              "      <td>Aureusidin, a naturally-occurring flavonoid, i...</td>\n",
              "      <td>NO_AFFILIATIONS</td>\n",
              "      <td>Jie Ren, Dan Su, Lixia Li, Heng Cai, Meiju Zha...</td>\n",
              "      <td>Toxicology and applied pharmacology</td>\n",
              "      <td>2020</td>\n",
              "      <td>Aureusidin; HO-1; Inflammation; MAPKs; NF-κB; ...</td>\n",
              "      <td>https://pubmed.ncbi.nlm.nih.gov/31790703</td>\n",
              "    </tr>\n",
              "    <tr>\n",
              "      <th>2</th>\n",
              "      <td>2</td>\n",
              "      <td>Hippo signaling disruption and ovarian follicl...</td>\n",
              "      <td>The Hippo signaling pathway, which is importan...</td>\n",
              "      <td>NO_AFFILIATIONS</td>\n",
              "      <td>Aaron J W Hsueh, Kazuhiro Kawamura,</td>\n",
              "      <td>Fertility and sterility</td>\n",
              "      <td>NO_DATE</td>\n",
              "      <td>Hippo signaling; diminished ovarian reserve; d...</td>\n",
              "      <td>https://pubmed.ncbi.nlm.nih.gov/32782158</td>\n",
              "    </tr>\n",
              "    <tr>\n",
              "      <th>3</th>\n",
              "      <td>3</td>\n",
              "      <td>Can Vitamin D and L-Cysteine Co-Supplementatio...</td>\n",
              "      <td>Early reports indicate an association between ...</td>\n",
              "      <td>NO_AFFILIATIONS</td>\n",
              "      <td>Sushil K Jain, Rajesh Parsanathan,</td>\n",
              "      <td>Journal of the American College of Nutrition</td>\n",
              "      <td>NO_DATE</td>\n",
              "      <td>African American; COVID-19; L-cysteine; Vitami...</td>\n",
              "      <td>https://pubmed.ncbi.nlm.nih.gov/32659175</td>\n",
              "    </tr>\n",
              "    <tr>\n",
              "      <th>4</th>\n",
              "      <td>4</td>\n",
              "      <td>Pterostilbene prevents LPS-induced early pulmo...</td>\n",
              "      <td>Early pulmonary fibrosis after acute lung inju...</td>\n",
              "      <td>NO_AFFILIATIONS</td>\n",
              "      <td>Huahong Yang, Cong Hua, Xiaolin Yang, Xiaoye F...</td>\n",
              "      <td>Food &amp; function</td>\n",
              "      <td>2020</td>\n",
              "      <td>NO_KEYWORDS</td>\n",
              "      <td>https://pubmed.ncbi.nlm.nih.gov/32377661</td>\n",
              "    </tr>\n",
              "    <tr>\n",
              "      <th>5</th>\n",
              "      <td>5</td>\n",
              "      <td>Molybdenum cofactor biology, evolution and def...</td>\n",
              "      <td>The molybdenum cofactor (Moco) represents an a...</td>\n",
              "      <td>NO_AFFILIATIONS</td>\n",
              "      <td>Simon J Mayr, Ralf-R Mendel, Guenter Schwarz,</td>\n",
              "      <td>Biochimica et biophysica acta. Molecular cell ...</td>\n",
              "      <td>NO_DATE</td>\n",
              "      <td>Alternative splicing; Cysteine catabolism; Inh...</td>\n",
              "      <td>https://pubmed.ncbi.nlm.nih.gov/33017596</td>\n",
              "    </tr>\n",
              "    <tr>\n",
              "      <th>6</th>\n",
              "      <td>6</td>\n",
              "      <td>The Biosynthetic Pathway of Ergothioneine in C...</td>\n",
              "      <td>Ergothioneine is a natural 2-thiol-amidazole a...</td>\n",
              "      <td>NO_AFFILIATIONS</td>\n",
              "      <td>Xueqin Yang, Shuoxin Lin, Jinde Lin, Yuyao Wan...</td>\n",
              "      <td>International journal of medicinal mushrooms</td>\n",
              "      <td>NO_DATE</td>\n",
              "      <td>NO_KEYWORDS</td>\n",
              "      <td>https://pubmed.ncbi.nlm.nih.gov/32479005</td>\n",
              "    </tr>\n",
              "    <tr>\n",
              "      <th>7</th>\n",
              "      <td>7</td>\n",
              "      <td>Maintenance of photosynthetic capacity in floo...</td>\n",
              "      <td>Ethylene is considered one of the most importa...</td>\n",
              "      <td>NO_AFFILIATIONS</td>\n",
              "      <td>Leandro Federico De Pedro, Francesco Mignolli,...</td>\n",
              "      <td>Physiologia plantarum</td>\n",
              "      <td>NO_DATE</td>\n",
              "      <td>NO_KEYWORDS</td>\n",
              "      <td>https://pubmed.ncbi.nlm.nih.gov/32458443</td>\n",
              "    </tr>\n",
              "    <tr>\n",
              "      <th>8</th>\n",
              "      <td>8</td>\n",
              "      <td>Defects in protein folding in congenital hypot...</td>\n",
              "      <td>Primary congenital hypothyroidism (CH) is the ...</td>\n",
              "      <td>NO_AFFILIATIONS</td>\n",
              "      <td>Héctor M Targovnik, Karen G Scheps, Carina M R...</td>\n",
              "      <td>Molecular and cellular endocrinology</td>\n",
              "      <td>2020</td>\n",
              "      <td>Congenital hypothyroidism; ERAD; Protein foldi...</td>\n",
              "      <td>https://pubmed.ncbi.nlm.nih.gov/31751626</td>\n",
              "    </tr>\n",
              "    <tr>\n",
              "      <th>9</th>\n",
              "      <td>9</td>\n",
              "      <td>Lysosomal sulfatases: a growing family</td>\n",
              "      <td>Sulfatases constitute a family of enzymes that...</td>\n",
              "      <td>NO_AFFILIATIONS</td>\n",
              "      <td>Torben Lübke, Markus Damme,</td>\n",
              "      <td>The Biochemical journal</td>\n",
              "      <td>2020</td>\n",
              "      <td>formyl glycine-generating enzyme; glycosaminog...</td>\n",
              "      <td>https://pubmed.ncbi.nlm.nih.gov/33120425</td>\n",
              "    </tr>\n",
              "  </tbody>\n",
              "</table>\n",
              "</div>"
            ],
            "text/plain": [
              "   Unnamed: 0  ...                                       url\n",
              "0           0  ...  https://pubmed.ncbi.nlm.nih.gov/32557804\n",
              "1           1  ...  https://pubmed.ncbi.nlm.nih.gov/31790703\n",
              "2           2  ...  https://pubmed.ncbi.nlm.nih.gov/32782158\n",
              "3           3  ...  https://pubmed.ncbi.nlm.nih.gov/32659175\n",
              "4           4  ...  https://pubmed.ncbi.nlm.nih.gov/32377661\n",
              "5           5  ...  https://pubmed.ncbi.nlm.nih.gov/33017596\n",
              "6           6  ...  https://pubmed.ncbi.nlm.nih.gov/32479005\n",
              "7           7  ...  https://pubmed.ncbi.nlm.nih.gov/32458443\n",
              "8           8  ...  https://pubmed.ncbi.nlm.nih.gov/31751626\n",
              "9           9  ...  https://pubmed.ncbi.nlm.nih.gov/33120425\n",
              "\n",
              "[10 rows x 9 columns]"
            ]
          },
          "metadata": {
            "tags": []
          },
          "execution_count": 34
        }
      ]
    },
    {
      "cell_type": "code",
      "metadata": {
        "id": "TbjgSkBQQL34",
        "colab": {
          "base_uri": "https://localhost:8080/",
          "height": 0
        },
        "outputId": "0014213b-132d-40b3-bbb7-8cb08ac1d611"
      },
      "source": [
        "articles_df.shape"
      ],
      "execution_count": 35,
      "outputs": [
        {
          "output_type": "execute_result",
          "data": {
            "text/plain": [
              "(597, 8)"
            ]
          },
          "metadata": {
            "tags": []
          },
          "execution_count": 35
        }
      ]
    },
    {
      "cell_type": "code",
      "metadata": {
        "colab": {
          "base_uri": "https://localhost:8080/",
          "height": 120
        },
        "id": "SaheNMRVlLUg",
        "outputId": "1e4cce72-13bf-4cb1-fafd-6ca86256a4bc"
      },
      "source": [
        "articles_df['abstract'][1]"
      ],
      "execution_count": 36,
      "outputs": [
        {
          "output_type": "execute_result",
          "data": {
            "application/vnd.google.colaboratory.intrinsic+json": {
              "type": "string"
            },
            "text/plain": [
              "'Aureusidin, a naturally-occurring flavonoid, is found in various plants of Cyperaceae such as Heleocharis dulcis (Burm. f.) Trin., but its pharmacological effect and active mechanism are rarely reported. This study aimed to investigate the anti-inflammatory effect and action mechanism of Aureusidin in LPS-induced mouse macrophage RAW264.7 cells. The results suggested that lipopolysaccharide (LPS)-induced nitric oxide (NO), tumor necrosis factor-α (TNF-α) and prostaglandin E2 (PGE2) production were obviously inhibited by Aureusidin. Moreover, Aureusidin also significantly decreased the mRNA expression of various inflammatory factors in LPS-stimulated RAW264.7 cells. Furthermore, mechanistic studies showed that Aureusidin significantly inhibited nuclear transfer of nuclear factor-κB (NF-κB), while increasing the nuclear translocation of nuclear factor E2-related factor 2 (Nrf2) as well as expression of Nrf2 target genes such as heme oxygenase (HO-1) and NAD(P)H:quinone oxidoreductase 1 (NQO1), but the addition of the HO-1 inhibitor Sn-protoporphyrin (Snpp) significantly abolished the anti-inflammatory effect of Aureusidin in LPS-stimulated RAW264.7 cells, confirming the view that HO-1 was involved in the anti-inflammatory effect. In addition, Aureusidin increased the levels of reactive oxygen species (ROS) and mitogen-activated protein kinase (MAPK) phosphorylation in RAW264.7 cells. Antioxidant N-acetylcysteine (NAC) or three MAPK inhibitors blocked the nuclear translocation of Nrf2 and HO-1 expression induced by Aureusidin, indicating that Aureusidin activated the Nrf2/HO-1 signaling pathway through ROS and MAPKs pathways. At the same time, co-treatment with the NAC blocked the phosphorylation of MAPKs. Results from molecular docking indicated that Aureusidin inhibited the NF-κB pathway by covalently binding to NF-κB. Thus, Aureusidin exerted the anti-inflammatory activity through blocking the NF-κB signaling pathways and activating the MAPKs and Nrf2/HO-1 signaling pathways. Based on the above results, Aureusidin may be an attractive therapeutic candidate for the inflammation-related diseases.'"
            ]
          },
          "metadata": {
            "tags": []
          },
          "execution_count": 36
        }
      ]
    },
    {
      "cell_type": "code",
      "metadata": {
        "id": "cqX--UjelaEd"
      },
      "source": [
        ""
      ],
      "execution_count": null,
      "outputs": []
    }
  ]
}